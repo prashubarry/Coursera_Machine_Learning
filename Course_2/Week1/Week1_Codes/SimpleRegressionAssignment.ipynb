{
 "cells": [
  {
   "cell_type": "code",
   "execution_count": 1,
   "metadata": {},
   "outputs": [],
   "source": [
    "import graphlab"
   ]
  },
  {
   "cell_type": "markdown",
   "metadata": {},
   "source": [
    "#Load house sales data"
   ]
  },
  {
   "cell_type": "code",
   "execution_count": 2,
   "metadata": {},
   "outputs": [
    {
     "name": "stdout",
     "output_type": "stream",
     "text": [
      "This non-commercial license of GraphLab Create for academic use is assigned to prashantbhat94@gmail.com and will expire on February 13, 2020.\n"
     ]
    },
    {
     "name": "stderr",
     "output_type": "stream",
     "text": [
      "[INFO] graphlab.cython.cy_server: GraphLab Create v2.1 started. Logging: C:\\Users\\user\\AppData\\Local\\Temp\\graphlab_server_1550998248.log.0\n"
     ]
    }
   ],
   "source": [
    "sales = graphlab.SFrame('kc_house_data.gl/')"
   ]
  },
  {
   "cell_type": "markdown",
   "metadata": {},
   "source": [
    "#Split the data into train and test data"
   ]
  },
  {
   "cell_type": "code",
   "execution_count": 3,
   "metadata": {},
   "outputs": [],
   "source": [
    "train_data,test_data = sales.random_split(.8,seed=0)"
   ]
  },
  {
   "cell_type": "markdown",
   "metadata": {},
   "source": [
    "In order to make use of the closed form solution as well as take advantage of graphlab's built in functions we will review some important ones. In particular:\n",
    "* Computing the sum of an SArray\n",
    "* Computing the arithmetic average (mean) of an SArray\n",
    "* multiplying SArrays by constants\n",
    "* multiplying SArrays by other SArrays"
   ]
  },
  {
   "cell_type": "code",
   "execution_count": 4,
   "metadata": {},
   "outputs": [
    {
     "name": "stdout",
     "output_type": "stream",
     "text": [
      "Average by method 1:540088.141905\n",
      "Average by method 2:540088.141905\n"
     ]
    }
   ],
   "source": [
    "#Compute the mean of the House Price of the King County in 2 ways:\n",
    "\n",
    "prices = sales['price']\n",
    "\n",
    "sum_prices = prices.sum()\n",
    "num_houses = prices.size()\n",
    "avg_price1 = sum_prices/num_houses\n",
    "avg_price2 = prices.mean()\n",
    "print('Average by method 1:'+ str(avg_price1))\n",
    "print('Average by method 2:'+str(avg_price2))"
   ]
  },
  {
   "cell_type": "code",
   "execution_count": 5,
   "metadata": {},
   "outputs": [
    {
     "name": "stdout",
     "output_type": "stream",
     "text": [
      "Sum of squared prices:9.21732513355e+15\n"
     ]
    }
   ],
   "source": [
    "#Multiply every price by 0.5\n",
    "half_prices  = 0.5 *prices\n",
    "\n",
    "#Compute the sum of squares of prices\n",
    "prices_squared = prices*prices\n",
    "sum_prices_squared = prices_squared.sum()\n",
    "print(\"Sum of squared prices:\"+str(sum_prices_squared))"
   ]
  },
  {
   "cell_type": "markdown",
   "metadata": {},
   "source": [
    "#Build a simple linear regression function"
   ]
  },
  {
   "cell_type": "code",
   "execution_count": 6,
   "metadata": {},
   "outputs": [],
   "source": [
    "def simple_linear_regression(input_feature,output):\n",
    "    Xi = input_feature\n",
    "    Yi = output\n",
    "    N = len(Xi)\n",
    "    #compute the sum of the input feature and the ouptut\n",
    "    Xi_sum = Xi.sum()\n",
    "    Yi_sum = Yi.sum()\n",
    "    \n",
    "    #Compute the mean of the input feature and the output\n",
    "    XMean = Xi.mean()\n",
    "    YMean = Yi.mean()\n",
    "    \n",
    "    #Compute the product of the input and the output feature and its sum\n",
    "    SumYiXi = (Yi*Xi).sum()\n",
    "    YiXiN = ((Yi.sum()*Xi.sum()))/N\n",
    "    \n",
    "    #Compute the squared value of the input feature and the mean\n",
    "    XiSq = (Xi*Xi).sum()\n",
    "    XiXiN = (Xi.sum()*Xi.sum())/N\n",
    "    \n",
    "    #Use the formula for the slope\n",
    "    slope = (SumYiXi - YiXiN)/(XiSq - XiXiN)\n",
    "    \n",
    "    #Use the formula for intercept\n",
    "    intercept  = YMean - (slope*XMean)\n",
    "    \n",
    "    return(intercept,slope)\n",
    "    "
   ]
  },
  {
   "cell_type": "code",
   "execution_count": 17,
   "metadata": {},
   "outputs": [
    {
     "name": "stdout",
     "output_type": "stream",
     "text": [
      "Intercept:1.0\n",
      "SLope:1\n"
     ]
    }
   ],
   "source": [
    "test_feature = graphlab.SArray(range(5))\n",
    "test_output = graphlab.SArray(1+1*test_feature)\n",
    "(test_intercept,test_slope)=simple_linear_regression(test_feature,test_output)\n",
    "print('Intercept:'+str(test_intercept))\n",
    "print('SLope:'+str(test_slope))"
   ]
  },
  {
   "cell_type": "code",
   "execution_count": 8,
   "metadata": {},
   "outputs": [
    {
     "name": "stdout",
     "output_type": "stream",
     "text": [
      "Intercept:-47116.0765749\n",
      "Slope:281.958838568\n"
     ]
    }
   ],
   "source": [
    "sqft_intercept,sqft_slope = simple_linear_regression(train_data['sqft_living'],train_data['price'])\n",
    "print('Intercept:'+str(sqft_intercept))\n",
    "print('Slope:'+str(sqft_slope))      "
   ]
  },
  {
   "cell_type": "markdown",
   "metadata": {},
   "source": [
    "#Predicting Values"
   ]
  },
  {
   "cell_type": "code",
   "execution_count": 9,
   "metadata": {},
   "outputs": [],
   "source": [
    "def get_regression_predictions(input_feature,intercept,slope):\n",
    "    #Calculate the predicted values\n",
    "    predicted_values = intercept + slope * input_feature\n",
    "    return predicted_values"
   ]
  },
  {
   "cell_type": "markdown",
   "metadata": {},
   "source": [
    "#Now we have build our own prediction function use that to answer the quiz questions\n",
    "**Quiz Question: Using your Slope and Intercept from (4), What is the predicted price for a house with 2650 sqft?**"
   ]
  },
  {
   "cell_type": "code",
   "execution_count": 10,
   "metadata": {},
   "outputs": [
    {
     "name": "stdout",
     "output_type": "stream",
     "text": [
      "The estimated price for a house with 2650 squarefeet is $700074.85\n"
     ]
    }
   ],
   "source": [
    "my_house_sqft = 2650\n",
    "estimated_price = get_regression_predictions(my_house_sqft, sqft_intercept, sqft_slope)\n",
    "print (\"The estimated price for a house with %d squarefeet is $%.2f\" % (my_house_sqft, estimated_price))"
   ]
  },
  {
   "cell_type": "markdown",
   "metadata": {},
   "source": [
    "**#Residual Sum Of Squares#**"
   ]
  },
  {
   "cell_type": "markdown",
   "metadata": {},
   "source": [
    "Now the we have written a model and make a predictions let's evauate our model using Residual Sum Of Squares(RSS). Now write a function foe getting the RSS."
   ]
  },
  {
   "cell_type": "code",
   "execution_count": 19,
   "metadata": {},
   "outputs": [],
   "source": [
    "def get_residual_sum_of_squares(input_feature, output, intercept, slope):\n",
    "    # First get the predictions\n",
    "    predicted_values = intercept + (slope * input_feature)\n",
    "    # then compute the residuals (since we are squaring it doesn't matter which order you subtract)\n",
    "    residuals = output - predicted_values\n",
    "    # square the residuals and add them up\n",
    "    RSS = (residuals * residuals).sum()\n",
    "    return(RSS)"
   ]
  },
  {
   "cell_type": "code",
   "execution_count": 20,
   "metadata": {},
   "outputs": [
    {
     "name": "stdout",
     "output_type": "stream",
     "text": [
      "0.0\n"
     ]
    }
   ],
   "source": [
    "print(get_residual_sum_of_squares(test_feature,test_output,test_intercept,test_slope))"
   ]
  },
  {
   "cell_type": "markdown",
   "metadata": {},
   "source": [
    "Now use the function to calculate RSS on the training data.\n",
    "\n",
    "**Quiz Question: According to this function and the slope and intercept from the squarefeet model What is the RSS for the simple linear regression using squarefeet to predict prices on TRAINING data?**"
   ]
  },
  {
   "cell_type": "code",
   "execution_count": 22,
   "metadata": {},
   "outputs": [
    {
     "name": "stdout",
     "output_type": "stream",
     "text": [
      "The RSS of Prediting the prices based on the sqft is:1.20191835632e+15\n"
     ]
    }
   ],
   "source": [
    "rss_prices_on_sq_ft = get_residual_sum_of_squares(train_data['sqft_living'],train_data['price'],sqft_intercept,sqft_slope)\n",
    "print('The RSS of Prediting the prices based on the sqft is:'+ str(rss_prices_on_sq_ft))"
   ]
  },
  {
   "cell_type": "markdown",
   "metadata": {},
   "source": [
    "# Predict the squarefeet given price"
   ]
  },
  {
   "cell_type": "markdown",
   "metadata": {},
   "source": [
    "##What if we want to predict the square feet of the house given the price , inverse the prediction formula and let us see the output"
   ]
  },
  {
   "cell_type": "code",
   "execution_count": 25,
   "metadata": {},
   "outputs": [],
   "source": [
    "def inverse_regression_predictions(output, intercept, slope):\n",
    "    estimated_feature = (output - intercept)/slope\n",
    "    return (estimated_feature)"
   ]
  },
  {
   "cell_type": "markdown",
   "metadata": {},
   "source": [
    "##Now that we have a function to compute the square foot given the price from our simple regression model let's see how big we might expect a house that costs $800,000 to be\n",
    "\n",
    "**Quiz Question: According to this function and the regression slope and the intercept from (3) what is the extimated square feet for a house costing $800,000 ?**"
   ]
  },
  {
   "cell_type": "code",
   "execution_count": 26,
   "metadata": {},
   "outputs": [
    {
     "name": "stdout",
     "output_type": "stream",
     "text": [
      "The estimated squarefeet for a house worth $800000.00 is 3004\n"
     ]
    }
   ],
   "source": [
    "my_house_price = 800000\n",
    "estimated_square_feet = inverse_regression_predictions(my_house_price,sqft_intercept,sqft_slope)\n",
    "print(\"The estimated squarefeet for a house worth $%.2f is %d\" % (my_house_price,estimated_square_feet))"
   ]
  },
  {
   "cell_type": "markdown",
   "metadata": {},
   "source": [
    "# New Model: estimate price from bedrooms"
   ]
  },
  {
   "cell_type": "markdown",
   "metadata": {},
   "source": [
    "Now we estimate the house price using the parameters bedrooms"
   ]
  },
  {
   "cell_type": "code",
   "execution_count": 28,
   "metadata": {},
   "outputs": [
    {
     "name": "stdout",
     "output_type": "stream",
     "text": [
      "Intercept : 109473.180469\n",
      "SLope :127588.952175\n"
     ]
    }
   ],
   "source": [
    "#Estimate the slope and intercept for predicting the 'price' based on 'bedrooms'\n",
    "bed_intercept,bed_slope = simple_linear_regression(train_data['bedrooms'],train_data['price'])\n",
    "\n",
    "print(\"Intercept : \"+str(bed_intercept))\n",
    "print(\"SLope :\" +str(bed_slope))"
   ]
  },
  {
   "cell_type": "markdown",
   "metadata": {},
   "source": [
    "# Test your linear regression algorithm"
   ]
  },
  {
   "cell_type": "markdown",
   "metadata": {},
   "source": [
    "**Quiz Question: Which model (square feet or bedrooms) has lowest RSS and Test data?**"
   ]
  },
  {
   "cell_type": "code",
   "execution_count": 29,
   "metadata": {},
   "outputs": [
    {
     "name": "stdout",
     "output_type": "stream",
     "text": [
      "The RSS for prediting the house prices based on Bedrooms:4.93364582868e+14\n"
     ]
    }
   ],
   "source": [
    "#Compute RSS when using bedrooms on test data\n",
    "bed_intercept1,bed_slope1 = simple_linear_regression(train_data['bedrooms'],train_data['price'])\n",
    "\n",
    "res_price_on_bedrooms = get_residual_sum_of_squares(test_data['bedrooms'],test_data['price'],bed_intercept1,bed_slope1)\n",
    "print (\"The RSS for prediting the house prices based on Bedrooms:\" +str(res_price_on_bedrooms))"
   ]
  },
  {
   "cell_type": "code",
   "execution_count": 30,
   "metadata": {},
   "outputs": [
    {
     "name": "stdout",
     "output_type": "stream",
     "text": [
      "The RSS for predicting the house price based on Sqft Living: 2.75402936247e+14\n"
     ]
    }
   ],
   "source": [
    "#Compute the RSS when using sqft on test_data\n",
    "sqft_intercept1,sqft_slope1= simple_linear_regression(train_data['sqft_living'],train_data['price'])\n",
    "\n",
    "res_price_on_sqft = get_residual_sum_of_squares(test_data['sqft_living'],test_data['price'],sqft_intercept1,sqft_slope1)\n",
    "print (\"The RSS for predicting the house price based on Sqft Living: \"+ str(res_price_on_sqft))"
   ]
  },
  {
   "cell_type": "code",
   "execution_count": null,
   "metadata": {},
   "outputs": [],
   "source": []
  }
 ],
 "metadata": {
  "kernelspec": {
   "display_name": "Python 2",
   "language": "python",
   "name": "python2"
  },
  "language_info": {
   "codemirror_mode": {
    "name": "ipython",
    "version": 2
   },
   "file_extension": ".py",
   "mimetype": "text/x-python",
   "name": "python",
   "nbconvert_exporter": "python",
   "pygments_lexer": "ipython2",
   "version": "2.7.15"
  }
 },
 "nbformat": 4,
 "nbformat_minor": 2
}
